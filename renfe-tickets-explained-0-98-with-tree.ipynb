{
 "cells": [
  {
   "cell_type": "code",
   "execution_count": 1,
   "metadata": {
    "_cell_guid": "b1076dfc-b9ad-4769-8c92-a6c4dae69d19",
    "_uuid": "8f2839f25d086af736a60e9eeb907d3b93b6e0e5"
   },
   "outputs": [
    {
     "name": "stdout",
     "output_type": "stream",
     "text": [
      "['renfe.csv']\n"
     ]
    }
   ],
   "source": [
    "# This Python 3 environment comes with many helpful analytics libraries installed\n",
    "# It is defined by the kaggle/python docker image: https://github.com/kaggle/docker-python\n",
    "# For example, here's several helpful packages to load in \n",
    "\n",
    "import numpy as np # linear algebra\n",
    "import pandas as pd # data processing, CSV file I/O (e.g. pd.read_csv)\n",
    "\n",
    "# Input data files are available in the \"../input/\" directory.\n",
    "# For example, running this (by clicking run or pressing Shift+Enter) will list the files in the input directory\n",
    "\n",
    "import os\n",
    "print(os.listdir(\"../input\"))\n",
    "\n",
    "# Any results you write to the current directory are saved as output."
   ]
  },
  {
   "cell_type": "markdown",
   "metadata": {},
   "source": [
    "   We load dataset into the var data using pandas function **read_csv( _dataset_path_ )**,\n",
    "and we show the first rows of it using head function (by default there are show first 5, we could change it using param **n=?**)\n",
    "\n"
   ]
  },
  {
   "cell_type": "code",
   "execution_count": 2,
   "metadata": {
    "_cell_guid": "79c7e3d0-c299-4dcb-8224-4455121ee9b0",
    "_uuid": "d629ff2d2480ee46fbb7e2d37f6b5fab8052498a"
   },
   "outputs": [
    {
     "name": "stderr",
     "output_type": "stream",
     "text": [
      "/opt/conda/lib/python3.6/site-packages/numpy/lib/arraysetops.py:569: FutureWarning: elementwise comparison failed; returning scalar instead, but in the future will perform elementwise comparison\n",
      "  mask |= (ar1 == a)\n"
     ]
    },
    {
     "data": {
      "text/html": [
       "<div>\n",
       "<style scoped>\n",
       "    .dataframe tbody tr th:only-of-type {\n",
       "        vertical-align: middle;\n",
       "    }\n",
       "\n",
       "    .dataframe tbody tr th {\n",
       "        vertical-align: top;\n",
       "    }\n",
       "\n",
       "    .dataframe thead th {\n",
       "        text-align: right;\n",
       "    }\n",
       "</style>\n",
       "<table border=\"1\" class=\"dataframe\">\n",
       "  <thead>\n",
       "    <tr style=\"text-align: right;\">\n",
       "      <th></th>\n",
       "      <th>insert_date</th>\n",
       "      <th>origin</th>\n",
       "      <th>destination</th>\n",
       "      <th>start_date</th>\n",
       "      <th>end_date</th>\n",
       "      <th>train_type</th>\n",
       "      <th>price</th>\n",
       "      <th>train_class</th>\n",
       "      <th>fare</th>\n",
       "    </tr>\n",
       "  </thead>\n",
       "  <tbody>\n",
       "    <tr>\n",
       "      <th>0</th>\n",
       "      <td>2019-04-19 05:31:43</td>\n",
       "      <td>MADRID</td>\n",
       "      <td>SEVILLA</td>\n",
       "      <td>2019-05-29 06:20:00</td>\n",
       "      <td>2019-05-29 09:16:00</td>\n",
       "      <td>AV City</td>\n",
       "      <td>38.55</td>\n",
       "      <td>Turista</td>\n",
       "      <td>Promo</td>\n",
       "    </tr>\n",
       "    <tr>\n",
       "      <th>1</th>\n",
       "      <td>2019-04-19 05:31:43</td>\n",
       "      <td>MADRID</td>\n",
       "      <td>SEVILLA</td>\n",
       "      <td>2019-05-29 07:00:00</td>\n",
       "      <td>2019-05-29 09:32:00</td>\n",
       "      <td>AVE</td>\n",
       "      <td>53.40</td>\n",
       "      <td>Turista</td>\n",
       "      <td>Promo</td>\n",
       "    </tr>\n",
       "    <tr>\n",
       "      <th>2</th>\n",
       "      <td>2019-04-19 05:31:43</td>\n",
       "      <td>MADRID</td>\n",
       "      <td>SEVILLA</td>\n",
       "      <td>2019-05-29 07:30:00</td>\n",
       "      <td>2019-05-29 09:51:00</td>\n",
       "      <td>AVE</td>\n",
       "      <td>47.30</td>\n",
       "      <td>Turista</td>\n",
       "      <td>Promo</td>\n",
       "    </tr>\n",
       "    <tr>\n",
       "      <th>3</th>\n",
       "      <td>2019-04-19 05:31:43</td>\n",
       "      <td>MADRID</td>\n",
       "      <td>SEVILLA</td>\n",
       "      <td>2019-05-29 08:00:00</td>\n",
       "      <td>2019-05-29 10:32:00</td>\n",
       "      <td>AVE</td>\n",
       "      <td>69.40</td>\n",
       "      <td>Preferente</td>\n",
       "      <td>Promo</td>\n",
       "    </tr>\n",
       "    <tr>\n",
       "      <th>4</th>\n",
       "      <td>2019-04-19 05:31:43</td>\n",
       "      <td>MADRID</td>\n",
       "      <td>SEVILLA</td>\n",
       "      <td>2019-05-29 08:30:00</td>\n",
       "      <td>2019-05-29 11:14:00</td>\n",
       "      <td>ALVIA</td>\n",
       "      <td>NaN</td>\n",
       "      <td>Turista</td>\n",
       "      <td>Promo</td>\n",
       "    </tr>\n",
       "    <tr>\n",
       "      <th>5</th>\n",
       "      <td>2019-04-19 05:31:43</td>\n",
       "      <td>MADRID</td>\n",
       "      <td>SEVILLA</td>\n",
       "      <td>2019-05-29 09:00:00</td>\n",
       "      <td>2019-05-29 11:38:00</td>\n",
       "      <td>AVE</td>\n",
       "      <td>60.30</td>\n",
       "      <td>Turista</td>\n",
       "      <td>Promo</td>\n",
       "    </tr>\n",
       "    <tr>\n",
       "      <th>6</th>\n",
       "      <td>2019-04-19 05:31:43</td>\n",
       "      <td>MADRID</td>\n",
       "      <td>SEVILLA</td>\n",
       "      <td>2019-05-29 09:45:00</td>\n",
       "      <td>2019-05-29 12:27:00</td>\n",
       "      <td>INTERCITY</td>\n",
       "      <td>62.20</td>\n",
       "      <td>Turista</td>\n",
       "      <td>Flexible</td>\n",
       "    </tr>\n",
       "    <tr>\n",
       "      <th>7</th>\n",
       "      <td>2019-04-19 05:31:43</td>\n",
       "      <td>MADRID</td>\n",
       "      <td>SEVILLA</td>\n",
       "      <td>2019-05-29 10:00:00</td>\n",
       "      <td>2019-05-29 12:32:00</td>\n",
       "      <td>AVE</td>\n",
       "      <td>47.30</td>\n",
       "      <td>Turista</td>\n",
       "      <td>Promo</td>\n",
       "    </tr>\n",
       "  </tbody>\n",
       "</table>\n",
       "</div>"
      ],
      "text/plain": [
       "           insert_date  origin    ...    train_class      fare\n",
       "0  2019-04-19 05:31:43  MADRID    ...        Turista     Promo\n",
       "1  2019-04-19 05:31:43  MADRID    ...        Turista     Promo\n",
       "2  2019-04-19 05:31:43  MADRID    ...        Turista     Promo\n",
       "3  2019-04-19 05:31:43  MADRID    ...     Preferente     Promo\n",
       "4  2019-04-19 05:31:43  MADRID    ...        Turista     Promo\n",
       "5  2019-04-19 05:31:43  MADRID    ...        Turista     Promo\n",
       "6  2019-04-19 05:31:43  MADRID    ...        Turista  Flexible\n",
       "7  2019-04-19 05:31:43  MADRID    ...        Turista     Promo\n",
       "\n",
       "[8 rows x 9 columns]"
      ]
     },
     "execution_count": 2,
     "metadata": {},
     "output_type": "execute_result"
    }
   ],
   "source": [
    "data = pd.read_csv('../input/renfe.csv', index_col=0)\n",
    "data.head(n=8)"
   ]
  },
  {
   "cell_type": "markdown",
   "metadata": {},
   "source": [
    "As we could see, some rows have NaN value on price columns, so we need to remove them \n",
    "to prevent our model from having problems"
   ]
  },
  {
   "cell_type": "markdown",
   "metadata": {},
   "source": [
    "# **Dataset Analysis**\n",
    "Before start coding the model, we should know how our dataset is, which columns has similar meanings, or erasing rows with error values.\n",
    "Lets see dataset'size"
   ]
  },
  {
   "cell_type": "code",
   "execution_count": 3,
   "metadata": {},
   "outputs": [
    {
     "data": {
      "text/plain": [
       "(2579771, 9)"
      ]
     },
     "execution_count": 3,
     "metadata": {},
     "output_type": "execute_result"
    }
   ],
   "source": [
    "data.shape"
   ]
  },
  {
   "cell_type": "markdown",
   "metadata": {},
   "source": [
    "Next function show us the tpye of each function, something that could we use later such as selecting most important columns. In addition, we could know some numeric description of each columns."
   ]
  },
  {
   "cell_type": "code",
   "execution_count": 4,
   "metadata": {},
   "outputs": [
    {
     "name": "stdout",
     "output_type": "stream",
     "text": [
      "<class 'pandas.core.frame.DataFrame'>\n",
      "Int64Index: 2579771 entries, 0 to 2579770\n",
      "Data columns (total 9 columns):\n",
      "insert_date    object\n",
      "origin         object\n",
      "destination    object\n",
      "start_date     object\n",
      "end_date       object\n",
      "train_type     object\n",
      "price          float64\n",
      "train_class    object\n",
      "fare           object\n",
      "dtypes: float64(1), object(8)\n",
      "memory usage: 196.8+ MB\n"
     ]
    }
   ],
   "source": [
    "data.info()"
   ]
  },
  {
   "cell_type": "code",
   "execution_count": 5,
   "metadata": {},
   "outputs": [
    {
     "data": {
      "text/html": [
       "<div>\n",
       "<style scoped>\n",
       "    .dataframe tbody tr th:only-of-type {\n",
       "        vertical-align: middle;\n",
       "    }\n",
       "\n",
       "    .dataframe tbody tr th {\n",
       "        vertical-align: top;\n",
       "    }\n",
       "\n",
       "    .dataframe thead th {\n",
       "        text-align: right;\n",
       "    }\n",
       "</style>\n",
       "<table border=\"1\" class=\"dataframe\">\n",
       "  <thead>\n",
       "    <tr style=\"text-align: right;\">\n",
       "      <th></th>\n",
       "      <th>price</th>\n",
       "    </tr>\n",
       "  </thead>\n",
       "  <tbody>\n",
       "    <tr>\n",
       "      <th>count</th>\n",
       "      <td>2.269090e+06</td>\n",
       "    </tr>\n",
       "    <tr>\n",
       "      <th>mean</th>\n",
       "      <td>6.338550e+01</td>\n",
       "    </tr>\n",
       "    <tr>\n",
       "      <th>std</th>\n",
       "      <td>2.578319e+01</td>\n",
       "    </tr>\n",
       "    <tr>\n",
       "      <th>min</th>\n",
       "      <td>1.545000e+01</td>\n",
       "    </tr>\n",
       "    <tr>\n",
       "      <th>25%</th>\n",
       "      <td>4.375000e+01</td>\n",
       "    </tr>\n",
       "    <tr>\n",
       "      <th>50%</th>\n",
       "      <td>6.030000e+01</td>\n",
       "    </tr>\n",
       "    <tr>\n",
       "      <th>75%</th>\n",
       "      <td>7.880000e+01</td>\n",
       "    </tr>\n",
       "    <tr>\n",
       "      <th>max</th>\n",
       "      <td>2.142000e+02</td>\n",
       "    </tr>\n",
       "  </tbody>\n",
       "</table>\n",
       "</div>"
      ],
      "text/plain": [
       "              price\n",
       "count  2.269090e+06\n",
       "mean   6.338550e+01\n",
       "std    2.578319e+01\n",
       "min    1.545000e+01\n",
       "25%    4.375000e+01\n",
       "50%    6.030000e+01\n",
       "75%    7.880000e+01\n",
       "max    2.142000e+02"
      ]
     },
     "execution_count": 5,
     "metadata": {},
     "output_type": "execute_result"
    }
   ],
   "source": [
    "data.describe()"
   ]
  },
  {
   "cell_type": "markdown",
   "metadata": {},
   "source": [
    "All columns are object type because are strings except the price that is float. Besides, the mean price is around 63€, but we know that there are different types of train_class, so let see de mean of each class.\n",
    "\n",
    "    1. Know classes\n",
    "    2. Ask dataset"
   ]
  },
  {
   "cell_type": "code",
   "execution_count": 6,
   "metadata": {},
   "outputs": [
    {
     "data": {
      "text/plain": [
       "array(['Turista', 'Preferente', 'Turista con enlace', 'Turista Plus', nan,\n",
       "       'Cama G. Clase', 'Cama Turista'], dtype=object)"
      ]
     },
     "execution_count": 6,
     "metadata": {},
     "output_type": "execute_result"
    }
   ],
   "source": [
    "data.train_class.unique()"
   ]
  },
  {
   "cell_type": "markdown",
   "metadata": {},
   "source": [
    "As we could see, there is a train_class with name 'NaN', we should remove it later."
   ]
  },
  {
   "cell_type": "markdown",
   "metadata": {},
   "source": [
    "This function allows us to calculate the mean faster"
   ]
  },
  {
   "cell_type": "code",
   "execution_count": 7,
   "metadata": {},
   "outputs": [],
   "source": [
    "def meanClass(train_class):\n",
    "    typeClass = data[data['train_class'] == train_class]\n",
    "    if not pd.isnull(train_class):\n",
    "        print (train_class, '->', typeClass['price'].mean())"
   ]
  },
  {
   "cell_type": "markdown",
   "metadata": {},
   "source": [
    "[](http://)# Cleaning the data\n",
    "\n",
    "## NaN values\n",
    "As we said, we need to remove wrong values as NaN.\n",
    "\n",
    "Lets see how many wrong rows we have. We know that dataset has 2579771 rows, so we need to check if a row has a NaN value."
   ]
  },
  {
   "cell_type": "code",
   "execution_count": 8,
   "metadata": {},
   "outputs": [
    {
     "data": {
      "text/plain": [
       "(2269090, 9)"
      ]
     },
     "execution_count": 8,
     "metadata": {},
     "output_type": "execute_result"
    }
   ],
   "source": [
    "data.dropna(inplace=True)\n",
    "data.shape"
   ]
  },
  {
   "cell_type": "markdown",
   "metadata": {},
   "source": [
    "We have removed 310681 rows with NaN values."
   ]
  },
  {
   "cell_type": "markdown",
   "metadata": {},
   "source": [
    "## String to Date\n",
    "The next problem our dataset has is the dates, we have to separete them in different columns (year, month, day, hour, mnt, second)"
   ]
  },
  {
   "cell_type": "code",
   "execution_count": 9,
   "metadata": {},
   "outputs": [
    {
     "data": {
      "text/html": [
       "<div>\n",
       "<style scoped>\n",
       "    .dataframe tbody tr th:only-of-type {\n",
       "        vertical-align: middle;\n",
       "    }\n",
       "\n",
       "    .dataframe tbody tr th {\n",
       "        vertical-align: top;\n",
       "    }\n",
       "\n",
       "    .dataframe thead th {\n",
       "        text-align: right;\n",
       "    }\n",
       "</style>\n",
       "<table border=\"1\" class=\"dataframe\">\n",
       "  <thead>\n",
       "    <tr style=\"text-align: right;\">\n",
       "      <th></th>\n",
       "      <th>insert_date</th>\n",
       "      <th>origin</th>\n",
       "      <th>destination</th>\n",
       "      <th>start_date</th>\n",
       "      <th>end_date</th>\n",
       "      <th>train_type</th>\n",
       "      <th>price</th>\n",
       "      <th>train_class</th>\n",
       "      <th>fare</th>\n",
       "    </tr>\n",
       "  </thead>\n",
       "  <tbody>\n",
       "    <tr>\n",
       "      <th>0</th>\n",
       "      <td>2019-04-19 05:31:43</td>\n",
       "      <td>MADRID</td>\n",
       "      <td>SEVILLA</td>\n",
       "      <td>2019-05-29 06:20:00</td>\n",
       "      <td>2019-05-29 09:16:00</td>\n",
       "      <td>AV City</td>\n",
       "      <td>38.55</td>\n",
       "      <td>Turista</td>\n",
       "      <td>Promo</td>\n",
       "    </tr>\n",
       "    <tr>\n",
       "      <th>1</th>\n",
       "      <td>2019-04-19 05:31:43</td>\n",
       "      <td>MADRID</td>\n",
       "      <td>SEVILLA</td>\n",
       "      <td>2019-05-29 07:00:00</td>\n",
       "      <td>2019-05-29 09:32:00</td>\n",
       "      <td>AVE</td>\n",
       "      <td>53.40</td>\n",
       "      <td>Turista</td>\n",
       "      <td>Promo</td>\n",
       "    </tr>\n",
       "    <tr>\n",
       "      <th>2</th>\n",
       "      <td>2019-04-19 05:31:43</td>\n",
       "      <td>MADRID</td>\n",
       "      <td>SEVILLA</td>\n",
       "      <td>2019-05-29 07:30:00</td>\n",
       "      <td>2019-05-29 09:51:00</td>\n",
       "      <td>AVE</td>\n",
       "      <td>47.30</td>\n",
       "      <td>Turista</td>\n",
       "      <td>Promo</td>\n",
       "    </tr>\n",
       "    <tr>\n",
       "      <th>3</th>\n",
       "      <td>2019-04-19 05:31:43</td>\n",
       "      <td>MADRID</td>\n",
       "      <td>SEVILLA</td>\n",
       "      <td>2019-05-29 08:00:00</td>\n",
       "      <td>2019-05-29 10:32:00</td>\n",
       "      <td>AVE</td>\n",
       "      <td>69.40</td>\n",
       "      <td>Preferente</td>\n",
       "      <td>Promo</td>\n",
       "    </tr>\n",
       "    <tr>\n",
       "      <th>5</th>\n",
       "      <td>2019-04-19 05:31:43</td>\n",
       "      <td>MADRID</td>\n",
       "      <td>SEVILLA</td>\n",
       "      <td>2019-05-29 09:00:00</td>\n",
       "      <td>2019-05-29 11:38:00</td>\n",
       "      <td>AVE</td>\n",
       "      <td>60.30</td>\n",
       "      <td>Turista</td>\n",
       "      <td>Promo</td>\n",
       "    </tr>\n",
       "  </tbody>\n",
       "</table>\n",
       "</div>"
      ],
      "text/plain": [
       "           insert_date  origin destination  ...    price train_class   fare\n",
       "0  2019-04-19 05:31:43  MADRID     SEVILLA  ...    38.55     Turista  Promo\n",
       "1  2019-04-19 05:31:43  MADRID     SEVILLA  ...    53.40     Turista  Promo\n",
       "2  2019-04-19 05:31:43  MADRID     SEVILLA  ...    47.30     Turista  Promo\n",
       "3  2019-04-19 05:31:43  MADRID     SEVILLA  ...    69.40  Preferente  Promo\n",
       "5  2019-04-19 05:31:43  MADRID     SEVILLA  ...    60.30     Turista  Promo\n",
       "\n",
       "[5 rows x 9 columns]"
      ]
     },
     "execution_count": 9,
     "metadata": {},
     "output_type": "execute_result"
    }
   ],
   "source": [
    "data.head()"
   ]
  },
  {
   "cell_type": "code",
   "execution_count": 10,
   "metadata": {},
   "outputs": [],
   "source": [
    "for col in ['insert_date', 'start_date', 'end_date']:\n",
    "    date_col = pd.to_datetime(data[col])\n",
    "    data[col + '_hour'] = date_col.dt.hour\n",
    "    data[col + '_minute'] = date_col.dt.minute\n",
    "    data[col + '_second'] = date_col.dt.second\n",
    "    data[col + '_weekday'] = date_col.dt.weekday_name\n",
    "    data[col + '_day'] = date_col.dt.day\n",
    "    data[col + '_month'] = date_col.dt.month\n",
    "    data[col + '_year'] = date_col.dt.year\n",
    "    \n",
    "    del data[col]"
   ]
  },
  {
   "cell_type": "code",
   "execution_count": 11,
   "metadata": {},
   "outputs": [
    {
     "data": {
      "text/plain": [
       "(2269090, 27)"
      ]
     },
     "execution_count": 11,
     "metadata": {},
     "output_type": "execute_result"
    }
   ],
   "source": [
    "data.shape"
   ]
  },
  {
   "cell_type": "code",
   "execution_count": 12,
   "metadata": {},
   "outputs": [
    {
     "data": {
      "text/html": [
       "<div>\n",
       "<style scoped>\n",
       "    .dataframe tbody tr th:only-of-type {\n",
       "        vertical-align: middle;\n",
       "    }\n",
       "\n",
       "    .dataframe tbody tr th {\n",
       "        vertical-align: top;\n",
       "    }\n",
       "\n",
       "    .dataframe thead th {\n",
       "        text-align: right;\n",
       "    }\n",
       "</style>\n",
       "<table border=\"1\" class=\"dataframe\">\n",
       "  <thead>\n",
       "    <tr style=\"text-align: right;\">\n",
       "      <th></th>\n",
       "      <th>origin</th>\n",
       "      <th>destination</th>\n",
       "      <th>train_type</th>\n",
       "      <th>price</th>\n",
       "      <th>train_class</th>\n",
       "      <th>fare</th>\n",
       "      <th>insert_date_hour</th>\n",
       "      <th>insert_date_minute</th>\n",
       "      <th>insert_date_second</th>\n",
       "      <th>insert_date_weekday</th>\n",
       "      <th>insert_date_day</th>\n",
       "      <th>insert_date_month</th>\n",
       "      <th>insert_date_year</th>\n",
       "      <th>start_date_hour</th>\n",
       "      <th>start_date_minute</th>\n",
       "      <th>start_date_second</th>\n",
       "      <th>start_date_weekday</th>\n",
       "      <th>start_date_day</th>\n",
       "      <th>start_date_month</th>\n",
       "      <th>start_date_year</th>\n",
       "      <th>end_date_hour</th>\n",
       "      <th>end_date_minute</th>\n",
       "      <th>end_date_second</th>\n",
       "      <th>end_date_weekday</th>\n",
       "      <th>end_date_day</th>\n",
       "      <th>end_date_month</th>\n",
       "      <th>end_date_year</th>\n",
       "    </tr>\n",
       "  </thead>\n",
       "  <tbody>\n",
       "    <tr>\n",
       "      <th>0</th>\n",
       "      <td>MADRID</td>\n",
       "      <td>SEVILLA</td>\n",
       "      <td>AV City</td>\n",
       "      <td>38.55</td>\n",
       "      <td>Turista</td>\n",
       "      <td>Promo</td>\n",
       "      <td>5</td>\n",
       "      <td>31</td>\n",
       "      <td>43</td>\n",
       "      <td>Friday</td>\n",
       "      <td>19</td>\n",
       "      <td>4</td>\n",
       "      <td>2019</td>\n",
       "      <td>6</td>\n",
       "      <td>20</td>\n",
       "      <td>0</td>\n",
       "      <td>Wednesday</td>\n",
       "      <td>29</td>\n",
       "      <td>5</td>\n",
       "      <td>2019</td>\n",
       "      <td>9</td>\n",
       "      <td>16</td>\n",
       "      <td>0</td>\n",
       "      <td>Wednesday</td>\n",
       "      <td>29</td>\n",
       "      <td>5</td>\n",
       "      <td>2019</td>\n",
       "    </tr>\n",
       "    <tr>\n",
       "      <th>1</th>\n",
       "      <td>MADRID</td>\n",
       "      <td>SEVILLA</td>\n",
       "      <td>AVE</td>\n",
       "      <td>53.40</td>\n",
       "      <td>Turista</td>\n",
       "      <td>Promo</td>\n",
       "      <td>5</td>\n",
       "      <td>31</td>\n",
       "      <td>43</td>\n",
       "      <td>Friday</td>\n",
       "      <td>19</td>\n",
       "      <td>4</td>\n",
       "      <td>2019</td>\n",
       "      <td>7</td>\n",
       "      <td>0</td>\n",
       "      <td>0</td>\n",
       "      <td>Wednesday</td>\n",
       "      <td>29</td>\n",
       "      <td>5</td>\n",
       "      <td>2019</td>\n",
       "      <td>9</td>\n",
       "      <td>32</td>\n",
       "      <td>0</td>\n",
       "      <td>Wednesday</td>\n",
       "      <td>29</td>\n",
       "      <td>5</td>\n",
       "      <td>2019</td>\n",
       "    </tr>\n",
       "    <tr>\n",
       "      <th>2</th>\n",
       "      <td>MADRID</td>\n",
       "      <td>SEVILLA</td>\n",
       "      <td>AVE</td>\n",
       "      <td>47.30</td>\n",
       "      <td>Turista</td>\n",
       "      <td>Promo</td>\n",
       "      <td>5</td>\n",
       "      <td>31</td>\n",
       "      <td>43</td>\n",
       "      <td>Friday</td>\n",
       "      <td>19</td>\n",
       "      <td>4</td>\n",
       "      <td>2019</td>\n",
       "      <td>7</td>\n",
       "      <td>30</td>\n",
       "      <td>0</td>\n",
       "      <td>Wednesday</td>\n",
       "      <td>29</td>\n",
       "      <td>5</td>\n",
       "      <td>2019</td>\n",
       "      <td>9</td>\n",
       "      <td>51</td>\n",
       "      <td>0</td>\n",
       "      <td>Wednesday</td>\n",
       "      <td>29</td>\n",
       "      <td>5</td>\n",
       "      <td>2019</td>\n",
       "    </tr>\n",
       "    <tr>\n",
       "      <th>3</th>\n",
       "      <td>MADRID</td>\n",
       "      <td>SEVILLA</td>\n",
       "      <td>AVE</td>\n",
       "      <td>69.40</td>\n",
       "      <td>Preferente</td>\n",
       "      <td>Promo</td>\n",
       "      <td>5</td>\n",
       "      <td>31</td>\n",
       "      <td>43</td>\n",
       "      <td>Friday</td>\n",
       "      <td>19</td>\n",
       "      <td>4</td>\n",
       "      <td>2019</td>\n",
       "      <td>8</td>\n",
       "      <td>0</td>\n",
       "      <td>0</td>\n",
       "      <td>Wednesday</td>\n",
       "      <td>29</td>\n",
       "      <td>5</td>\n",
       "      <td>2019</td>\n",
       "      <td>10</td>\n",
       "      <td>32</td>\n",
       "      <td>0</td>\n",
       "      <td>Wednesday</td>\n",
       "      <td>29</td>\n",
       "      <td>5</td>\n",
       "      <td>2019</td>\n",
       "    </tr>\n",
       "    <tr>\n",
       "      <th>5</th>\n",
       "      <td>MADRID</td>\n",
       "      <td>SEVILLA</td>\n",
       "      <td>AVE</td>\n",
       "      <td>60.30</td>\n",
       "      <td>Turista</td>\n",
       "      <td>Promo</td>\n",
       "      <td>5</td>\n",
       "      <td>31</td>\n",
       "      <td>43</td>\n",
       "      <td>Friday</td>\n",
       "      <td>19</td>\n",
       "      <td>4</td>\n",
       "      <td>2019</td>\n",
       "      <td>9</td>\n",
       "      <td>0</td>\n",
       "      <td>0</td>\n",
       "      <td>Wednesday</td>\n",
       "      <td>29</td>\n",
       "      <td>5</td>\n",
       "      <td>2019</td>\n",
       "      <td>11</td>\n",
       "      <td>38</td>\n",
       "      <td>0</td>\n",
       "      <td>Wednesday</td>\n",
       "      <td>29</td>\n",
       "      <td>5</td>\n",
       "      <td>2019</td>\n",
       "    </tr>\n",
       "  </tbody>\n",
       "</table>\n",
       "</div>"
      ],
      "text/plain": [
       "   origin destination      ...       end_date_month  end_date_year\n",
       "0  MADRID     SEVILLA      ...                    5           2019\n",
       "1  MADRID     SEVILLA      ...                    5           2019\n",
       "2  MADRID     SEVILLA      ...                    5           2019\n",
       "3  MADRID     SEVILLA      ...                    5           2019\n",
       "5  MADRID     SEVILLA      ...                    5           2019\n",
       "\n",
       "[5 rows x 27 columns]"
      ]
     },
     "execution_count": 12,
     "metadata": {},
     "output_type": "execute_result"
    }
   ],
   "source": [
    "data.head()"
   ]
  },
  {
   "cell_type": "markdown",
   "metadata": {},
   "source": [
    "## Useless Columns\n",
    "Some columns has the same value for all rows, so we should remove it. If we remove one column, we are removing one dimension of our model, and that means less error and less problems.\n",
    "\n",
    "This information does not contribute anything to our model."
   ]
  },
  {
   "cell_type": "code",
   "execution_count": 13,
   "metadata": {},
   "outputs": [
    {
     "name": "stdout",
     "output_type": "stream",
     "text": [
      "origin : 5\n",
      "destination : 5\n",
      "train_type : 15\n",
      "price : 225\n",
      "train_class : 6\n",
      "fare : 7\n",
      "insert_date_hour : 24\n",
      "insert_date_minute : 60\n",
      "insert_date_second : 60\n",
      "insert_date_weekday : 7\n",
      "insert_date_day : 29\n",
      "insert_date_month : 2\n",
      "insert_date_year : 1 (we should remove it)\n",
      "start_date_hour : 19\n",
      "start_date_minute : 26\n",
      "start_date_second : 1 (we should remove it)\n",
      "start_date_weekday : 7\n",
      "start_date_day : 31\n",
      "start_date_month : 4\n",
      "start_date_year : 1 (we should remove it)\n",
      "end_date_hour : 18\n",
      "end_date_minute : 50\n",
      "end_date_second : 1 (we should remove it)\n",
      "end_date_weekday : 7\n",
      "end_date_day : 31\n",
      "end_date_month : 4\n",
      "end_date_year : 1 (we should remove it)\n"
     ]
    }
   ],
   "source": [
    "dropColumnsList = []\n",
    "\n",
    "for column in data.columns:\n",
    "    numValues = len(data[column].unique())\n",
    "    line = column +  ' : ' + str(numValues)\n",
    "    if numValues == 1:\n",
    "        dropColumnsList.append(column)\n",
    "        line += \" (we should remove it)\"\n",
    "    print(line)"
   ]
  },
  {
   "cell_type": "code",
   "execution_count": 14,
   "metadata": {},
   "outputs": [
    {
     "data": {
      "text/plain": [
       "['insert_date_year',\n",
       " 'start_date_second',\n",
       " 'start_date_year',\n",
       " 'end_date_second',\n",
       " 'end_date_year']"
      ]
     },
     "execution_count": 14,
     "metadata": {},
     "output_type": "execute_result"
    }
   ],
   "source": [
    "dropColumnsList"
   ]
  },
  {
   "cell_type": "markdown",
   "metadata": {},
   "source": [
    "In dropColumnsList we have the columns to delete. Lets do it."
   ]
  },
  {
   "cell_type": "code",
   "execution_count": 15,
   "metadata": {},
   "outputs": [],
   "source": [
    "data.drop(dropColumnsList, axis=1, inplace=True)"
   ]
  },
  {
   "cell_type": "code",
   "execution_count": 16,
   "metadata": {},
   "outputs": [
    {
     "data": {
      "text/plain": [
       "(2269090, 22)"
      ]
     },
     "execution_count": 16,
     "metadata": {},
     "output_type": "execute_result"
    }
   ],
   "source": [
    "data.shape"
   ]
  },
  {
   "cell_type": "markdown",
   "metadata": {},
   "source": [
    "\n",
    "# Building the Model"
   ]
  },
  {
   "cell_type": "markdown",
   "metadata": {},
   "source": [
    "Before building the model, we should know how columns (var) are related to each other. We need to do it, because maybe we have two columns that give the same information, and remember: **less dimensions, better results**"
   ]
  },
  {
   "cell_type": "code",
   "execution_count": 17,
   "metadata": {},
   "outputs": [
    {
     "name": "stdout",
     "output_type": "stream",
     "text": [
      "<class 'pandas.core.frame.DataFrame'>\n",
      "Int64Index: 2269090 entries, 0 to 2579770\n",
      "Data columns (total 22 columns):\n",
      "origin                 object\n",
      "destination            object\n",
      "train_type             object\n",
      "price                  float64\n",
      "train_class            object\n",
      "fare                   object\n",
      "insert_date_hour       int64\n",
      "insert_date_minute     int64\n",
      "insert_date_second     int64\n",
      "insert_date_weekday    object\n",
      "insert_date_day        int64\n",
      "insert_date_month      int64\n",
      "start_date_hour        int64\n",
      "start_date_minute      int64\n",
      "start_date_weekday     object\n",
      "start_date_day         int64\n",
      "start_date_month       int64\n",
      "end_date_hour          int64\n",
      "end_date_minute        int64\n",
      "end_date_weekday       object\n",
      "end_date_day           int64\n",
      "end_date_month         int64\n",
      "dtypes: float64(1), int64(13), object(8)\n",
      "memory usage: 398.2+ MB\n"
     ]
    }
   ],
   "source": [
    "data.info()"
   ]
  },
  {
   "cell_type": "markdown",
   "metadata": {},
   "source": [
    "We have some columns that are string, so we could change it to numeric values."
   ]
  },
  {
   "cell_type": "code",
   "execution_count": 18,
   "metadata": {},
   "outputs": [],
   "source": [
    "#d = {'No' : False, 'Yes' : True}\n",
    "#data[_nameColumn_] = df[_nameColumn_].map(d)\n",
    "#data.head()"
   ]
  },
  {
   "cell_type": "markdown",
   "metadata": {},
   "source": [
    "Seaborn Library allows us to draw graphics suchs as correlation matrix or boxplots"
   ]
  },
  {
   "cell_type": "code",
   "execution_count": 19,
   "metadata": {},
   "outputs": [],
   "source": [
    "import seaborn as sns"
   ]
  },
  {
   "cell_type": "markdown",
   "metadata": {},
   "source": [
    "Boxplot graphic is usefull to undestand numeric data. For example the price column ..."
   ]
  },
  {
   "cell_type": "code",
   "execution_count": 20,
   "metadata": {},
   "outputs": [
    {
     "data": {
      "image/png": "[encoded data removed]",
      "text/plain": [
       "<Figure size 432x288 with 1 Axes>"
      ]
     },
     "metadata": {
      "needs_background": "light"
     },
     "output_type": "display_data"
    }
   ],
   "source": [
    "sns.boxplot(x='price', data=data);"
   ]
  },
  {
   "cell_type": "markdown",
   "metadata": {},
   "source": [
    "**How could we interpret it?**\n",
    "\n",
    "Both side lanes show us the max and min price people paid for their tickets. The blue box shows us the percentiles 25%-75%, that is, the price they paid between 25% and 75% of the people.\n",
    "\n",
    "The last black points are atypical values, that is to say, we could say that these values were from tickets bought at the last minute (they are usually more expensive)\n"
   ]
  },
  {
   "cell_type": "code",
   "execution_count": 21,
   "metadata": {},
   "outputs": [
    {
     "data": {
      "image/png": "[encoded data removed]",
      "text/plain": [
       "<Figure size 432x288 with 2 Axes>"
      ]
     },
     "metadata": {
      "needs_background": "light"
     },
     "output_type": "display_data"
    }
   ],
   "source": [
    "numerical = list(set(data.columns) - \n",
    "                 set(['origin', 'destination', 'train_type','train_class', 'fare']))\n",
    "\n",
    "corr_matrix = data[numerical].corr()\n",
    "sns.heatmap(corr_matrix);"
   ]
  },
  {
   "cell_type": "markdown",
   "metadata": {},
   "source": [
    "We should remove: **end_date_day && end_date_month**"
   ]
  },
  {
   "cell_type": "code",
   "execution_count": 22,
   "metadata": {},
   "outputs": [],
   "source": [
    "data.drop(columns=['end_date_day', 'end_date_month'], inplace=True)"
   ]
  },
  {
   "cell_type": "markdown",
   "metadata": {},
   "source": [
    "**Now we know better our dataset, lets train our model !!**"
   ]
  },
  {
   "cell_type": "code",
   "execution_count": 23,
   "metadata": {},
   "outputs": [],
   "source": [
    "import warnings; warnings.simplefilter('ignore')"
   ]
  },
  {
   "cell_type": "code",
   "execution_count": 24,
   "metadata": {},
   "outputs": [],
   "source": [
    "X_data = data.drop(columns='price')\n",
    "labels_data = data['price'].values"
   ]
  },
  {
   "cell_type": "markdown",
   "metadata": {},
   "source": [
    "Our model will predict the value of each ticket, but we have many columns with string values. We could use a library that fixes that problem."
   ]
  },
  {
   "cell_type": "code",
   "execution_count": 25,
   "metadata": {},
   "outputs": [
    {
     "name": "stdout",
     "output_type": "stream",
     "text": [
      "<class 'pandas.core.frame.DataFrame'>\n",
      "Int64Index: 2269090 entries, 0 to 2579770\n",
      "Data columns (total 20 columns):\n",
      "origin                 object\n",
      "destination            object\n",
      "train_type             object\n",
      "price                  float64\n",
      "train_class            object\n",
      "fare                   object\n",
      "insert_date_hour       int64\n",
      "insert_date_minute     int64\n",
      "insert_date_second     int64\n",
      "insert_date_weekday    object\n",
      "insert_date_day        int64\n",
      "insert_date_month      int64\n",
      "start_date_hour        int64\n",
      "start_date_minute      int64\n",
      "start_date_weekday     object\n",
      "start_date_day         int64\n",
      "start_date_month       int64\n",
      "end_date_hour          int64\n",
      "end_date_minute        int64\n",
      "end_date_weekday       object\n",
      "dtypes: float64(1), int64(11), object(8)\n",
      "memory usage: 363.5+ MB\n"
     ]
    }
   ],
   "source": [
    "data.info()"
   ]
  },
  {
   "cell_type": "code",
   "execution_count": 26,
   "metadata": {},
   "outputs": [],
   "source": [
    "from sklearn.preprocessing import OneHotEncoder"
   ]
  },
  {
   "cell_type": "markdown",
   "metadata": {},
   "source": [
    "Next code will classificate strings into categorical values. For example, encode will know that in the train_class column there must be few values:\n",
    "\n",
    "* Turista\n",
    "* Preferente\n",
    "* Turista con enlace\n",
    "* Turista Plus\n",
    "* Cama G. Clase\n",
    "* Cama Turista"
   ]
  },
  {
   "cell_type": "code",
   "execution_count": 27,
   "metadata": {},
   "outputs": [],
   "source": [
    "onehotencoder = OneHotEncoder()\n",
    "X = onehotencoder.fit_transform(X_data.values)"
   ]
  },
  {
   "cell_type": "code",
   "execution_count": 28,
   "metadata": {},
   "outputs": [
    {
     "name": "stdout",
     "output_type": "stream",
     "text": [
      "['BARCELONA' 'MADRID' 'PONFERRADA' 'SEVILLA' 'VALENCIA']\n",
      "['BARCELONA' 'MADRID' 'PONFERRADA' 'SEVILLA' 'VALENCIA']\n",
      "['ALVIA' 'AV City' 'AVE' 'AVE-LD' 'AVE-MD']\n",
      "['Cama G. Clase' 'Cama Turista' 'Preferente' 'Turista' 'Turista Plus']\n",
      "['Adulto ida' 'Flexible' 'Grupos Ida' 'Individual-Flexible' 'Mesa']\n",
      "[0 1 2 3 4]\n",
      "[0 1 2 3 4]\n",
      "[0 1 2 3 4]\n",
      "['Friday' 'Monday' 'Saturday' 'Sunday' 'Thursday']\n",
      "[1 2 3 4 5]\n",
      "[4 5]\n",
      "[2 5 6 7 8]\n",
      "[0 3 5 8 10]\n",
      "['Friday' 'Monday' 'Saturday' 'Sunday' 'Thursday']\n",
      "[1 2 3 4 5]\n",
      "[4 5 6 7]\n",
      "[0 4 8 9 10]\n",
      "[0 1 2 3 4]\n",
      "['Friday' 'Monday' 'Saturday' 'Sunday' 'Thursday']\n"
     ]
    }
   ],
   "source": [
    "for category in onehotencoder.categories_:\n",
    "    print(category[:5])"
   ]
  },
  {
   "cell_type": "code",
   "execution_count": 29,
   "metadata": {},
   "outputs": [],
   "source": [
    "from sklearn.model_selection import train_test_split"
   ]
  },
  {
   "cell_type": "code",
   "execution_count": 30,
   "metadata": {},
   "outputs": [],
   "source": [
    "from sklearn import preprocessing"
   ]
  },
  {
   "cell_type": "code",
   "execution_count": 31,
   "metadata": {},
   "outputs": [],
   "source": [
    "lab_enc = preprocessing.LabelEncoder()\n",
    "training_labels_encoded = lab_enc.fit_transform(labels_data)"
   ]
  },
  {
   "cell_type": "code",
   "execution_count": 32,
   "metadata": {},
   "outputs": [],
   "source": [
    "(trainData, testData, trainLabels, testLabels) = train_test_split(X,training_labels_encoded,test_size=0.15, random_state=42)"
   ]
  },
  {
   "cell_type": "code",
   "execution_count": 33,
   "metadata": {},
   "outputs": [],
   "source": [
    "(trainData, valData, trainLabels, valLabels) = train_test_split(trainData,trainLabels,test_size=0.10, random_state=42)"
   ]
  },
  {
   "cell_type": "markdown",
   "metadata": {},
   "source": [
    "# Building different models"
   ]
  },
  {
   "cell_type": "code",
   "execution_count": 34,
   "metadata": {},
   "outputs": [],
   "source": [
    "from sklearn.tree import DecisionTreeClassifier\n",
    "from sklearn.linear_model import LogisticRegression\n",
    "from sklearn.svm import SVC\n",
    "from sklearn.neighbors import KNeighborsClassifier\n",
    "from sklearn.linear_model import Perceptron\n",
    "from sklearn.linear_model import LinearRegression"
   ]
  },
  {
   "cell_type": "markdown",
   "metadata": {},
   "source": [
    "#### HOLDOUT\n",
    "\n",
    "The first alternative to select the hyperparameters is a part of the instances of the joint validation training, and the different hyperparameters in a manual way to see which is the best solution with each of them. For this we use the new function train_test_split."
   ]
  },
  {
   "cell_type": "markdown",
   "metadata": {},
   "source": [
    "**Linear Regression**"
   ]
  },
  {
   "cell_type": "code",
   "execution_count": 35,
   "metadata": {},
   "outputs": [
    {
     "name": "stdout",
     "output_type": "stream",
     "text": [
      "Linear Regression 0.878164681250478\n",
      "CPU times: user 1min 30s, sys: 47.5 s, total: 2min 18s\n",
      "Wall time: 1min 23s\n"
     ]
    }
   ],
   "source": [
    "%%time\n",
    "model = LinearRegression()\n",
    "model.fit(trainData, trainLabels)\n",
    "score = model.score(testData,testLabels)\n",
    "print('Linear Regression', score)"
   ]
  },
  {
   "cell_type": "markdown",
   "metadata": {},
   "source": [
    "**KNN**"
   ]
  },
  {
   "cell_type": "markdown",
   "metadata": {},
   "source": [
    "This model is no AI-model because you neednt train it. KNN draws all train instances into the space, and them for each test instance we take nearest k-points for it.\n",
    "\n",
    "Thats why this model doesnt learn, its always the same algorithm, but its good point of begining.\n",
    "\n",
    "I didnt use it becuse it was too slow, but if u are beging with AI, you should know it."
   ]
  },
  {
   "cell_type": "markdown",
   "metadata": {},
   "source": [
    "<img src=\"https://importq.files.wordpress.com/2017/11/knn_neigh.gif?w=640&zoom=2\">"
   ]
  },
  {
   "cell_type": "markdown",
   "metadata": {},
   "source": [
    "**Decision Tree Classifier**"
   ]
  },
  {
   "cell_type": "markdown",
   "metadata": {},
   "source": [
    "This model is 'white-box' model. We could know the process that model follows to determine the price."
   ]
  },
  {
   "cell_type": "code",
   "execution_count": 36,
   "metadata": {},
   "outputs": [
    {
     "name": "stdout",
     "output_type": "stream",
     "text": [
      "Arbol de Decision 0.9841709311308477\n",
      "CPU times: user 9min 34s, sys: 764 ms, total: 9min 35s\n",
      "Wall time: 9min 35s\n"
     ]
    }
   ],
   "source": [
    "%%time\n",
    "modelArbol  = DecisionTreeClassifier(min_samples_split=8)\n",
    "modelArbol.fit(trainData, trainLabels)\n",
    "score = modelArbol .score(valData,valLabels)\n",
    "print('Arbol de Decision', score)"
   ]
  },
  {
   "cell_type": "markdown",
   "metadata": {},
   "source": [
    "This model gives us high performance. Maybe we have overfitted our model. if we wanna check it, we could use plot_curves, which allows us to see validation curve with the function **plot_validation_curve**"
   ]
  },
  {
   "cell_type": "markdown",
   "metadata": {},
   "source": [
    "**Neuronal Network**\n",
    "\n",
    "First, lets see the easiest NN that we could code: the Perceptron."
   ]
  },
  {
   "cell_type": "code",
   "execution_count": 37,
   "metadata": {},
   "outputs": [
    {
     "name": "stdout",
     "output_type": "stream",
     "text": [
      "Simple Neuronal Network 0.6613626583295744\n",
      "CPU times: user 12min 29s, sys: 580 ms, total: 12min 29s\n",
      "Wall time: 12min 30s\n"
     ]
    }
   ],
   "source": [
    "%%time\n",
    "modelPerceptron = Perceptron(max_iter=10,eta0=1.0,random_state=84)\n",
    "modelPerceptron.fit(trainData,trainLabels)\n",
    "score = modelPerceptron.score(valData,valLabels)\n",
    "print('Simple Neuronal Network', score)"
   ]
  },
  {
   "cell_type": "markdown",
   "metadata": {},
   "source": [
    "# Test Our Model\n"
   ]
  },
  {
   "cell_type": "code",
   "execution_count": 38,
   "metadata": {},
   "outputs": [
    {
     "name": "stdout",
     "output_type": "stream",
     "text": [
      "Linear Regression in test 0.878164681250478\n",
      "CPU times: user 24 ms, sys: 0 ns, total: 24 ms\n",
      "Wall time: 22.6 ms\n"
     ]
    }
   ],
   "source": [
    "%%time\n",
    "print('Linear Regression in test', model.score(testData, testLabels))"
   ]
  },
  {
   "cell_type": "code",
   "execution_count": 39,
   "metadata": {},
   "outputs": [
    {
     "name": "stdout",
     "output_type": "stream",
     "text": [
      "Tree Decission in test 0.9836381050874946\n",
      "CPU times: user 320 ms, sys: 288 ms, total: 608 ms\n",
      "Wall time: 610 ms\n"
     ]
    }
   ],
   "source": [
    "%%time\n",
    "print('Tree Decission in test', modelArbol.score(testData, testLabels))"
   ]
  },
  {
   "cell_type": "code",
   "execution_count": 40,
   "metadata": {},
   "outputs": [
    {
     "name": "stdout",
     "output_type": "stream",
     "text": [
      "Neuronal Network in test 0.6596202888672128\n",
      "CPU times: user 1.16 s, sys: 736 ms, total: 1.9 s\n",
      "Wall time: 1.9 s\n"
     ]
    }
   ],
   "source": [
    "%%time\n",
    "print('Neuronal Network in test', modelPerceptron.score(testData, testLabels))"
   ]
  }
 ],
 "metadata": {
  "kernelspec": {
   "display_name": "Python 3",
   "language": "python",
   "name": "python3"
  },
  "language_info": {
   "codemirror_mode": {
    "name": "ipython",
    "version": 3
   },
   "file_extension": ".py",
   "mimetype": "text/x-python",
   "name": "python",
   "nbconvert_exporter": "python",
   "pygments_lexer": "ipython3",
   "version": "3.6.6"
  }
 },
 "nbformat": 4,
 "nbformat_minor": 1
}
